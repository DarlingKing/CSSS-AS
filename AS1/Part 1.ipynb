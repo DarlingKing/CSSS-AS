{
 "cells": [
  {
   "cell_type": "markdown",
   "id": "d24ee57e",
   "metadata": {},
   "source": [
    "# Part 1: Datasets for Computational Social Science"
   ]
  },
  {
   "cell_type": "markdown",
   "id": "9b1ad303",
   "metadata": {},
   "source": [
    "_Ten characteristics of Big Data._ Consider the dataset you have collected in Week 1, and think of the *10 characteristics of Big Data* from the book [Bit by Bit section 2.3](https://www.bitbybitbook.com/en/1st-ed/observing-behavior/characteristics/).\n",
    "> * **Big**. How large is this data (approximately)? Could you collect the same amount of information via surveys?  \n",
    "\n",
    "Almost 20000 rows of data were collected.It is almost impossible to obtain such a large and comprehensive amount of data through surveys, which requires a huge investment of manpower and resources.\n",
    "> * **Always-on**. Can you keep collecting data over time?  \n",
    "\n",
    "The data covers every second of the 24 hours of the period. But people need to live. It is impossible to collect with such intensity\n",
    "> * **Non-reactive**. Is the dataset non-reactive?  \n",
    "\n",
    "Communication on the Internet is anonymous and our collection is post-collection, where people are not aware at the time of posting that their actions will be watched or are not that concerned about leaving records on Internet.\n",
    "> * **Incomplete**. Do you think the dataset captures entirely the unfolding of events leading to the GME stock rise in price? \n",
    "\n",
    "As far as I know, this event originated on the reddit website, so we can get a partial picture of the cause from these comments. In particular, how it started. *According to the existing empirical data, during the pandemic, most of the companies have invested more in social vs. traditional media for their marketing activities. [1]* It is evident that the epidemic played an important role outside of the internet as well.\n",
    "And the GME incident was not limited to the reddit community, there are many other social networking sites besides reddit, like twitter etc.\n",
    "\n",
    "[1]Mitreva M, Arsova M, Jovanov T, et al. Consumer media habits versus media investment trends during Covid-19[J]. 2021.\n",
    "> * **Inaccessible**. Is the data accessible? \n",
    "\n",
    "\n",
    "The vast majority of the data is, except for deleted and blocked posts (if exist).\n",
    "> * **Non-representative**. Do you think that the conclusions we will draw by analyzing this dataset are specific to the GME events? Or could they instead help us understand social phenomena more in general? If yes, which phenomena could you think of? Of not, what are the aspects that make this dataset non-representative?\n",
    "\n",
    "I think this data set is representative. Indeed, much research has been done by many academics. For example, Zaghum has demonstrate a robust positive association between GameStop prices and the performance of high short interest indices in *Comovements between heavily shorted stocks during a market squeeze: Lessons from the GameStop trading frenzy*. A similar thing happened with the cryptocurrency Dogecoin.\n",
    "\n",
    "The *perfect storm* was fuelled by social media, which created a huge and rapid impact through internet.\n",
    "> * **Drifting**. Is there any source of *drift* in this dataset (within the period observed)? \n",
    "\n",
    "Yes.\n",
    "* Population Drift - Such as, drift from original users to new users who signed up and participated in reddit discussions to follow it.\n",
    "* Behavioral Drift - As the buzz grew, people stopped using GME-related hashtags and engaged directly in the discussion.\n",
    "> * **Algorithmically confounded**. Is the dataset algorithmically confounded? If yes, why?\n",
    "\n",
    "Absolutely yes. I am not a user of reddit, but I visited the homepage of the site. On the homepage there are sections such as Trending today, Popular posts and POPULAR COMMUNITIES, which means that there is a reddit recommendation algorithm behind it.\n",
    "This causes the popular ones to become even more popular with the intervention of the algorithm.\n",
    "> * **Dirty**. What aspect may make this dataset *dirty*?\n",
    "\n",
    "1. Repeated posts.\n",
    "2. Posts not related to GME.\n",
    "3. Other debates sparked by GME, for example, attempted suicide\n",
    "> * **Sensitive**. Is there any sensitive information in the data?\n",
    "\n",
    "* Comments may contain sensitive personal information\n",
    "* Speculation is not respected and public data may lead to emotional harm\n",
    "* Some users can be exposed financially, how their wealth came to be or how it was lost\n",
    "* Users can be targeted by their id or the content of these discussions and there is a risk of doxing"
   ]
  },
  {
   "cell_type": "code",
   "execution_count": null,
   "id": "ece1f6e0",
   "metadata": {},
   "outputs": [],
   "source": []
  }
 ],
 "metadata": {
  "kernelspec": {
   "display_name": "Python 3 (ipykernel)",
   "language": "python",
   "name": "python3"
  },
  "language_info": {
   "codemirror_mode": {
    "name": "ipython",
    "version": 3
   },
   "file_extension": ".py",
   "mimetype": "text/x-python",
   "name": "python",
   "nbconvert_exporter": "python",
   "pygments_lexer": "ipython3",
   "version": "3.9.5"
  }
 },
 "nbformat": 4,
 "nbformat_minor": 5
}
