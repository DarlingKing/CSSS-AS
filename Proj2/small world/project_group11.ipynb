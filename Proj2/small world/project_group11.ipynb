{
 "cells": [
  {
   "cell_type": "code",
   "execution_count": 1,
   "metadata": {
    "colab": {},
    "colab_type": "code",
    "id": "kckV6xs7VQ2o"
   },
   "outputs": [],
   "source": [
    "import pandas as pd\n",
    "import numpy as np\n",
    "import ast\n",
    "import csv\n",
    "import time\n",
    "import random\n",
    "import seaborn as sns\n",
    "\n",
    "from operator import itemgetter\n",
    "import networkx as nx\n",
    "from networkx.algorithms import community\n",
    "\n",
    "import matplotlib.pyplot as plt"
   ]
  },
  {
   "cell_type": "code",
   "execution_count": 2,
   "metadata": {
    "colab": {
     "base_uri": "https://localhost:8080/",
     "height": 122
    },
    "colab_type": "code",
    "id": "hKNoIS4XVTKn",
    "outputId": "a721b9d4-b774-4c4b-e64a-600ead384f58"
   },
   "outputs": [],
   "source": [
    "### from google.colab import drive\n",
    "### drive.mount('/content/drive')"
   ]
  },
  {
   "cell_type": "code",
   "execution_count": 3,
   "metadata": {
    "colab": {},
    "colab_type": "code",
    "id": "cQIhMaiqVQ2z"
   },
   "outputs": [],
   "source": [
    "users=np.zeros((40000,1))"
   ]
  },
  {
   "cell_type": "code",
   "execution_count": 4,
   "metadata": {
    "colab": {
     "base_uri": "https://localhost:8080/",
     "height": 34
    },
    "colab_type": "code",
    "id": "Q6XDBhl8VQ29",
    "outputId": "6dcf9613-9515-441a-e7df-1c910308be76"
   },
   "outputs": [
    {
     "data": {
      "text/plain": [
       "(40000, 1)"
      ]
     },
     "execution_count": 4,
     "metadata": {},
     "output_type": "execute_result"
    }
   ],
   "source": [
    "users.shape"
   ]
  },
  {
   "cell_type": "code",
   "execution_count": 5,
   "metadata": {
    "colab": {},
    "colab_type": "code",
    "id": "STMgGEZNVQ3F"
   },
   "outputs": [],
   "source": [
    "user_friends={}\n",
    "user_tags={}\n",
    "max_friends=0\n",
    "min_friends=200000\n",
    "def hasMoreTags(s):\n",
    "    return s[-1]!=']'"
   ]
  },
  {
   "cell_type": "markdown",
   "metadata": {
    "colab_type": "text",
    "id": "7WwoNJhbQdnc"
   },
   "source": [
    "# Generate User: Tags dict"
   ]
  },
  {
   "cell_type": "code",
   "execution_count": 6,
   "metadata": {
    "colab": {
     "base_uri": "https://localhost:8080/",
     "height": 34
    },
    "colab_type": "code",
    "id": "7KOBfQFLVQ3i",
    "outputId": "b20ba39a-b612-4d18-8934-223015266130"
   },
   "outputs": [
    {
     "name": "stdout",
     "output_type": "stream",
     "text": [
      "17.697014331817627 seconds\n"
     ]
    }
   ],
   "source": [
    "start=time.time()\n",
    "with open('data.csv', 'r') as infile:\n",
    "    reader = csv.reader(infile)\n",
    "    count=-1\n",
    "    \n",
    "    for row in reader:\n",
    "        #print(row[:7])\n",
    "        count += 1\n",
    "        if count == 0:\n",
    "            continue\n",
    "        id=row[0]\n",
    "        #print(count)\n",
    "        users[count-1][0]=id\n",
    "        screenName=row[1]\n",
    "        \n",
    "        many_tags=hasMoreTags(row[2])\n",
    "        \n",
    "        offset=0\n",
    "        #print('{} originally'.format(row[2]))\n",
    "        #print(row[3])\n",
    "        if many_tags:\n",
    "            this_tags=[]\n",
    "            for j in range(20):\n",
    "                this_tags.append(row[2+j].strip('[]').strip(''))\n",
    "                if row[2+j][-1]==']':\n",
    "                    break\n",
    "            #print('{} many tags'.format(this_tags))\n",
    "            user_tags[id]=this_tags\n",
    "            offset=len(this_tags)-1\n",
    "            #print(offset)\n",
    "        else:\n",
    "            user_tags[id]=row[2].strip('[]').strip('')\n",
    "            \n",
    "        #followersCount=row[4]\n",
    "        #print(offset)\n",
    "        friendsCount=int(row[5+offset])\n",
    "        #print(row[5+offset])\n",
    "        max_friends=max(max_friends,friendsCount)\n",
    "        min_friends=min(min_friends,friendsCount)\n",
    "        friends=row[9+offset:]\n",
    "        friends[0]=friends[0].strip('[]')\n",
    "        friends[-1]=friends[-1].strip('[]')\n",
    "        friends=[i.replace('\"', '') for i in friends]\n",
    "        friends=[i.strip() for i in friends]\n",
    "        user_friends[id]=friends\n",
    "        #print(\"{} : {}\".format(count, friends))\n",
    "end=time.time()\n",
    "print('{} seconds'.format(end-start))"
   ]
  },
  {
   "cell_type": "code",
   "execution_count": 7,
   "metadata": {
    "colab": {
     "base_uri": "https://localhost:8080/",
     "height": 50
    },
    "colab_type": "code",
    "id": "a4w4h74qVQ3p",
    "outputId": "cd635868-f2d4-4ffb-f1e9-2709c764f863"
   },
   "outputs": [
    {
     "name": "stdout",
     "output_type": "stream",
     "text": [
      "238749\n",
      "101\n"
     ]
    }
   ],
   "source": [
    "print(max_friends)\n",
    "print(min_friends)"
   ]
  },
  {
   "cell_type": "markdown",
   "metadata": {
    "colab_type": "text",
    "id": "tImUEzkpMNhp"
   },
   "source": [
    "# Generate/Read all tags"
   ]
  },
  {
   "cell_type": "code",
   "execution_count": 8,
   "metadata": {
    "colab": {},
    "colab_type": "code",
    "id": "rAW0d4reYV4k"
   },
   "outputs": [],
   "source": [
    "import re\n",
    "def remove_hashtag(raw_str):\n",
    "    return ' '.join(re.sub(\"(@[A-Za-z0-9]+)|([^0-9A-Za-z \\t])|(\\w+:\\/\\/\\S+)\",\" \",raw_str).split())"
   ]
  },
  {
   "cell_type": "code",
   "execution_count": 9,
   "metadata": {
    "colab": {},
    "colab_type": "code",
    "id": "fzjy-L4fXu9z"
   },
   "outputs": [],
   "source": [
    "try:\n",
    "    all_tags=pd.read_csv('all_tags_saved.csv')\n",
    "except:\n",
    "    all_tags=set()\n",
    "\n",
    "    for u in user_tags:\n",
    "        tags=user_tags[u]\n",
    "\n",
    "        if type(tags) == str:\n",
    "            all_tags.add(remove_hashtag(tags))\n",
    "        else:\n",
    "            for tag in tags:\n",
    "                all_tags.add(remove_hashtag(tag))\n",
    "\n",
    "    pd.DataFrame(list(all_tags)).to_csv('all_tags_saved.csv')"
   ]
  },
  {
   "cell_type": "code",
   "execution_count": 10,
   "metadata": {
    "colab": {
     "base_uri": "https://localhost:8080/",
     "height": 34
    },
    "colab_type": "code",
    "id": "_tZh3y96VQ3-",
    "outputId": "728d54c5-fb46-41fc-ef91-18c3e46c24f5"
   },
   "outputs": [
    {
     "data": {
      "text/plain": [
       "128"
      ]
     },
     "execution_count": 10,
     "metadata": {},
     "output_type": "execute_result"
    }
   ],
   "source": [
    "len(all_tags)"
   ]
  },
  {
   "cell_type": "markdown",
   "metadata": {
    "colab_type": "text",
    "id": "x6Y6W97SNYH9"
   },
   "source": [
    "# Generate Tag: User dict"
   ]
  },
  {
   "cell_type": "code",
   "execution_count": 11,
   "metadata": {
    "colab": {},
    "colab_type": "code",
    "id": "HI8RpY07ZmJp"
   },
   "outputs": [],
   "source": [
    "tag_users={}"
   ]
  },
  {
   "cell_type": "code",
   "execution_count": 12,
   "metadata": {
    "colab": {},
    "colab_type": "code",
    "id": "V2Mj0jB7V1QX"
   },
   "outputs": [],
   "source": [
    "for u in user_tags:\n",
    "    tags=user_tags[u]\n",
    "    if type(tags)==str:\n",
    "        normalized_tag=remove_hashtag(tags)\n",
    "        if normalized_tag in tag_users:\n",
    "            cur_tags=tag_users[normalized_tag]\n",
    "            cur_tags.append(u)\n",
    "            tag_users[normalized_tag]=cur_tags\n",
    "        else:\n",
    "            cur_tags=[]\n",
    "            cur_tags.append(u)\n",
    "            tag_users[normalized_tag]=cur_tags\n",
    "    else:\n",
    "        for tag in tags:\n",
    "            normalized_tag=remove_hashtag(tag)\n",
    "            if normalized_tag in tag_users:\n",
    "                cur_tags=tag_users[normalized_tag]\n",
    "                cur_tags.append(u)\n",
    "                tag_users[normalized_tag]=cur_tags\n",
    "            else:\n",
    "                cur_tags=[]\n",
    "                cur_tags.append(u)\n",
    "                tag_users[normalized_tag]=cur_tags"
   ]
  },
  {
   "cell_type": "code",
   "execution_count": 35,
   "metadata": {
    "colab": {
     "base_uri": "https://localhost:8080/",
     "height": 34
    },
    "colab_type": "code",
    "id": "amDzxx0Zao5P",
    "outputId": "ccc414bb-4b29-4933-f667-2cf9bd74bc86"
   },
   "outputs": [
    {
     "name": "stdout",
     "output_type": "stream",
     "text": [
      "128\n"
     ]
    }
   ],
   "source": [
    "print(len(tag_users))\n",
    "#print(tag_users)\n"
   ]
  },
  {
   "cell_type": "code",
   "execution_count": 14,
   "metadata": {
    "colab": {},
    "colab_type": "code",
    "id": "L6WNcpKSYxQY"
   },
   "outputs": [],
   "source": [
    "x=list(tag_users.keys())\n",
    "y=[len(item) for item in tag_users.values()]\n",
    "\n",
    "tag_nums=pd.DataFrame({'tags':x,'num':y})\n",
    "\n",
    "# Sort by the num of each tag\n",
    "sorted_tag_nums=tag_nums.sort_values(by=['num'], ascending=[0])"
   ]
  },
  {
   "cell_type": "code",
   "execution_count": 15,
   "metadata": {
    "colab": {
     "base_uri": "https://localhost:8080/",
     "height": 343
    },
    "colab_type": "code",
    "id": "LztsFmvNrCcK",
    "outputId": "20e19460-ca69-4d16-f6d2-8f002089bd94"
   },
   "outputs": [
    {
     "data": {
      "text/html": [
       "<div>\n",
       "<style scoped>\n",
       "    .dataframe tbody tr th:only-of-type {\n",
       "        vertical-align: middle;\n",
       "    }\n",
       "\n",
       "    .dataframe tbody tr th {\n",
       "        vertical-align: top;\n",
       "    }\n",
       "\n",
       "    .dataframe thead th {\n",
       "        text-align: right;\n",
       "    }\n",
       "</style>\n",
       "<table border=\"1\" class=\"dataframe\">\n",
       "  <thead>\n",
       "    <tr style=\"text-align: right;\">\n",
       "      <th></th>\n",
       "      <th>tags</th>\n",
       "      <th>num</th>\n",
       "    </tr>\n",
       "  </thead>\n",
       "  <tbody>\n",
       "    <tr>\n",
       "      <th>0</th>\n",
       "      <td>nationaldogday</td>\n",
       "      <td>30513</td>\n",
       "    </tr>\n",
       "    <tr>\n",
       "      <th>17</th>\n",
       "      <td>respecttylerjoseph</td>\n",
       "      <td>6054</td>\n",
       "    </tr>\n",
       "    <tr>\n",
       "      <th>2</th>\n",
       "      <td>gloryoutnow</td>\n",
       "      <td>600</td>\n",
       "    </tr>\n",
       "    <tr>\n",
       "      <th>8</th>\n",
       "      <td>backtohogwarts</td>\n",
       "      <td>310</td>\n",
       "    </tr>\n",
       "    <tr>\n",
       "      <th>1</th>\n",
       "      <td>narcos</td>\n",
       "      <td>269</td>\n",
       "    </tr>\n",
       "    <tr>\n",
       "      <th>76</th>\n",
       "      <td>steve rogers</td>\n",
       "      <td>211</td>\n",
       "    </tr>\n",
       "    <tr>\n",
       "      <th>31</th>\n",
       "      <td>louisweloveyou</td>\n",
       "      <td>142</td>\n",
       "    </tr>\n",
       "    <tr>\n",
       "      <th>24</th>\n",
       "      <td>bournemouth</td>\n",
       "      <td>130</td>\n",
       "    </tr>\n",
       "    <tr>\n",
       "      <th>69</th>\n",
       "      <td>bundesliga</td>\n",
       "      <td>122</td>\n",
       "    </tr>\n",
       "    <tr>\n",
       "      <th>27</th>\n",
       "      <td>harry potter</td>\n",
       "      <td>103</td>\n",
       "    </tr>\n",
       "  </tbody>\n",
       "</table>\n",
       "</div>"
      ],
      "text/plain": [
       "                  tags    num\n",
       "0       nationaldogday  30513\n",
       "17  respecttylerjoseph   6054\n",
       "2          gloryoutnow    600\n",
       "8       backtohogwarts    310\n",
       "1               narcos    269\n",
       "76        steve rogers    211\n",
       "31      louisweloveyou    142\n",
       "24         bournemouth    130\n",
       "69          bundesliga    122\n",
       "27        harry potter    103"
      ]
     },
     "execution_count": 15,
     "metadata": {},
     "output_type": "execute_result"
    }
   ],
   "source": [
    "sorted_tag_nums[:10]"
   ]
  },
  {
   "cell_type": "code",
   "execution_count": 16,
   "metadata": {
    "colab": {},
    "colab_type": "code",
    "id": "Ebhm8JTIqifi"
   },
   "outputs": [],
   "source": [
    "sorted_x=sorted_tag_nums['tags'][:5]\n",
    "sorted_y=sorted_tag_nums['num'][:5]"
   ]
  },
  {
   "cell_type": "code",
   "execution_count": 17,
   "metadata": {
    "colab": {
     "base_uri": "https://localhost:8080/",
     "height": 101
    },
    "colab_type": "code",
    "id": "KZG2vC9ozADy",
    "outputId": "d1326337-8d8c-4bc8-86a4-20f0652205cb"
   },
   "outputs": [
    {
     "data": {
      "text/plain": [
       "['nationaldogday',\n",
       " 'respecttylerjoseph',\n",
       " 'gloryoutnow',\n",
       " 'backtohogwarts',\n",
       " 'narcos']"
      ]
     },
     "execution_count": 17,
     "metadata": {},
     "output_type": "execute_result"
    }
   ],
   "source": [
    "list(sorted_x)"
   ]
  },
  {
   "cell_type": "code",
   "execution_count": 21,
   "metadata": {
    "colab": {
     "base_uri": "https://localhost:8080/",
     "height": 353
    },
    "colab_type": "code",
    "id": "EpfFLQl8U9GS",
    "outputId": "abce7893-b762-45bc-e870-3ad597922246"
   },
   "outputs": [
    {
     "name": "stderr",
     "output_type": "stream",
     "text": [
      "c:\\users\\astr010gos\\appdata\\local\\programs\\python\\python39\\lib\\site-packages\\seaborn\\_decorators.py:36: FutureWarning: Pass the following variables as keyword args: x, y. From version 0.12, the only valid positional argument will be `data`, and passing other arguments without an explicit keyword will result in an error or misinterpretation.\n",
      "  warnings.warn(\n"
     ]
    },
    {
     "data": {
      "image/png": "[encoded data removed]",
      "text/plain": [
       "<Figure size 720x360 with 1 Axes>"
      ]
     },
     "metadata": {
      "needs_background": "light"
     },
     "output_type": "display_data"
    }
   ],
   "source": [
    "plt.figure(figsize=(10,5))\n",
    "sns.barplot(sorted_x, sorted_y, alpha=0.8)\n",
    "\n",
    "plt.title('Tag Users Distribution')\n",
    "\n",
    "plt.ylabel('Users count', fontsize=12)\n",
    "plt.xlabel('Tag', fontsize=12)\n",
    "\n",
    "plt.savefig('Graphs/tag_users.png')"
   ]
  },
  {
   "cell_type": "code",
   "execution_count": 22,
   "metadata": {
    "colab": {
     "base_uri": "https://localhost:8080/",
     "height": 455
    },
    "colab_type": "code",
    "id": "lCJlJowYbw3T",
    "outputId": "64cd21c0-343c-45fa-e2c2-6c6044180a3d"
   },
   "outputs": [
    {
     "data": {
      "text/plain": [
       "[<matplotlib.lines.Line2D at 0x1f9db429d60>]"
      ]
     },
     "execution_count": 22,
     "metadata": {},
     "output_type": "execute_result"
    },
    {
     "data": {
      "image/png": "[encoded data removed]",
      "text/plain": [
       "<Figure size 700x500 with 1 Axes>"
      ]
     },
     "metadata": {
      "needs_background": "light"
     },
     "output_type": "display_data"
    }
   ],
   "source": [
    "fig, axes = plt.subplots(figsize=(7,5), dpi=100)\n",
    "\n",
    "plt.plot(sorted_x, sorted_y,'go-', label='line 1', linewidth=2)"
   ]
  },
  {
   "cell_type": "code",
   "execution_count": 23,
   "metadata": {
    "colab": {
     "base_uri": "https://localhost:8080/",
     "height": 34
    },
    "colab_type": "code",
    "id": "8dE8kriDVQ4C",
    "outputId": "59127437-cf46-42ae-f7c8-8a6f65a31950"
   },
   "outputs": [
    {
     "data": {
      "text/plain": [
       "40000"
      ]
     },
     "execution_count": 23,
     "metadata": {},
     "output_type": "execute_result"
    }
   ],
   "source": [
    "# Generate the nodes and edges\n",
    "nodes=user_friends.keys()\n",
    "len(nodes)"
   ]
  },
  {
   "cell_type": "code",
   "execution_count": 24,
   "metadata": {
    "colab": {},
    "colab_type": "code",
    "id": "XnuHs_RLoiWj"
   },
   "outputs": [],
   "source": [
    "node_list=list(nodes)\n",
    "with open('nodelist.txt', 'w') as filehandle:\n",
    "    for listitem in node_list:\n",
    "        filehandle.write('%s\\n' % listitem)"
   ]
  },
  {
   "cell_type": "markdown",
   "metadata": {},
   "source": [
    "# Built the network"
   ]
  },
  {
   "cell_type": "code",
   "execution_count": 25,
   "metadata": {
    "colab": {},
    "colab_type": "code",
    "id": "-1vkEqhEr6Pl"
   },
   "outputs": [],
   "source": [
    "def calculate_shortest_dist(this_tag, k_nodes):\n",
    "    count=1\n",
    "    size_k=len(k_nodes)\n",
    "    for index_a in range(size_k):\n",
    "\n",
    "        no_paths=[]\n",
    "        shortest_path_list=[]\n",
    "        shortest_dist=[]\n",
    "\n",
    "        for index_b in range(index_a+1, size_k):\n",
    "            a=k_nodes[index_a]\n",
    "            b=k_nodes[index_b]\n",
    "\n",
    "            try:\n",
    "                s_path=nx.shortest_path_length(G,a,b)\n",
    "                shortest_path_list.append((a,b,s_path))\n",
    "                shortest_dist.append(s_path)\n",
    "\n",
    "            except:\n",
    "                no_paths.append((a,b))\n",
    "\n",
    "        with open('temp/%s_shortest_path.txt'%this_tag,'a+') as fp:\n",
    "            fp.write('\\n'.join('%s %s %s'%x for x in shortest_path_list))\n",
    "\n",
    "        with open('temp/%s_shortest_path.txt'%this_tag,'a+') as fp:\n",
    "            fp.write('\\n')\n",
    "\n",
    "        with open('temp/%s_no_path.txt'%this_tag,'a+') as fp:\n",
    "            fp.write('\\n'.join('%s %s'%x for x in no_paths))\n",
    "\n",
    "        with open('temp/%s_no_path.txt'%this_tag,'a+') as fp:\n",
    "            fp.write('\\n')\n",
    "  \n",
    "        with open('temp/%s_shortest_dist.txt'%this_tag,'a+') as fp:\n",
    "            fp.write('\\n'.join('%s'%x for x in shortest_dist))\n",
    "\n",
    "        with open('temp/%s_shortest_dist.txt'%this_tag,'a+') as fp:\n",
    "            fp.write('\\n')\n",
    "\n",
    "        #print('Finished {} node'.format(count))\n",
    "        count+=1"
   ]
  },
  {
   "cell_type": "code",
   "execution_count": null,
   "metadata": {},
   "outputs": [],
   "source": []
  },
  {
   "cell_type": "markdown",
   "metadata": {
    "colab_type": "text",
    "id": "jBl46hPJ2lH4"
   },
   "source": [
    "# Calculate Six Degrees under the same tag"
   ]
  },
  {
   "cell_type": "code",
   "execution_count": 26,
   "metadata": {
    "colab": {},
    "colab_type": "code",
    "id": "vmwIIDoglMuM"
   },
   "outputs": [],
   "source": [
    "top_tags=list(sorted_x)\n",
    "\n",
    "# Sample 200 user from top 5 tags to calculate 6 degree\n",
    "k=200\n",
    "try:\n",
    "\n",
    "  f=open('%s_shortest_path.txt'%top_tags[0])\n",
    "\n",
    "except IOError:\n",
    "# Calculate\n",
    "  for this_tag in top_tags:\n",
    "    this_tag_users=set(tag_users[this_tag])\n",
    "    this_tag_users_list=list(this_tag_users)\n",
    "    k_nodes=set() #should not choose the same node twice\n",
    "\n",
    "    while len(k_nodes)<k:\n",
    "      n1=random.choice(this_tag_users_list)\n",
    "      if n1 not in k_nodes:\n",
    "        k_nodes.add(n1)\n",
    "    #print(len(k_nodes))\n",
    "    calculate_shortest_dist(this_tag,list(k_nodes))"
   ]
  },
  {
   "cell_type": "markdown",
   "metadata": {
    "colab_type": "text",
    "id": "BEixjBwU17E-"
   },
   "source": [
    "# Analyze top 5 tags"
   ]
  },
  {
   "cell_type": "code",
   "execution_count": 27,
   "metadata": {
    "colab": {},
    "colab_type": "code",
    "id": "bkU4gU8StxDj"
   },
   "outputs": [],
   "source": [
    "try:\n",
    "    \n",
    "    f=open('temp/%s_shortest_dist.txt'%top_tags[0])\n",
    "    \n",
    "except IOError: \n",
    "    for this_tag in top_tags:\n",
    "\n",
    "        shortest_dist_list = pd.read_csv('%s_shortest_dist.txt'%this_tag, names=['dist'], sep=\" \", header=None)\n",
    "\n",
    "        shortest_dist_list['dist'].value_counts().to_csv('%s_info.txt'%this_tag,sep=':')\n",
    "        shortest_dist_list.describe().to_csv('%s_info.txt'%this_tag, mode='a',sep=':')"
   ]
  },
  {
   "cell_type": "markdown",
   "metadata": {
    "colab_type": "text",
    "id": "iW1ulZrPAqq7"
   },
   "source": [
    "# Visualize the results"
   ]
  },
  {
   "cell_type": "code",
   "execution_count": 29,
   "metadata": {
    "colab": {
     "base_uri": "https://localhost:8080/",
     "height": 1000
    },
    "colab_type": "code",
    "id": "WsXGVp_eAp4S",
    "outputId": "c4244c72-4982-4f5b-ee4a-68e5779b1de1"
   },
   "outputs": [
    {
     "name": "stderr",
     "output_type": "stream",
     "text": [
      "c:\\users\\astr010gos\\appdata\\local\\programs\\python\\python39\\lib\\site-packages\\seaborn\\_decorators.py:36: FutureWarning: Pass the following variables as keyword args: x, y. From version 0.12, the only valid positional argument will be `data`, and passing other arguments without an explicit keyword will result in an error or misinterpretation.\n",
      "  warnings.warn(\n"
     ]
    },
    {
     "ename": "ValueError",
     "evalue": "min() arg is an empty sequence",
     "output_type": "error",
     "traceback": [
      "\u001b[1;31m---------------------------------------------------------------------------\u001b[0m",
      "\u001b[1;31mValueError\u001b[0m                                Traceback (most recent call last)",
      "\u001b[1;32mC:\\Users\\ASTR01~1\\AppData\\Local\\Temp/ipykernel_12736/3754850712.py\u001b[0m in \u001b[0;36m<module>\u001b[1;34m\u001b[0m\n\u001b[0;32m      5\u001b[0m \u001b[1;33m\u001b[0m\u001b[0m\n\u001b[0;32m      6\u001b[0m     \u001b[0mplt\u001b[0m\u001b[1;33m.\u001b[0m\u001b[0mfigure\u001b[0m\u001b[1;33m(\u001b[0m\u001b[0mfigsize\u001b[0m\u001b[1;33m=\u001b[0m\u001b[1;33m(\u001b[0m\u001b[1;36m10\u001b[0m\u001b[1;33m,\u001b[0m\u001b[1;36m5\u001b[0m\u001b[1;33m)\u001b[0m\u001b[1;33m)\u001b[0m\u001b[1;33m\u001b[0m\u001b[1;33m\u001b[0m\u001b[0m\n\u001b[1;32m----> 7\u001b[1;33m     \u001b[0msns\u001b[0m\u001b[1;33m.\u001b[0m\u001b[0mbarplot\u001b[0m\u001b[1;33m(\u001b[0m\u001b[0msd_count\u001b[0m\u001b[1;33m.\u001b[0m\u001b[0mindex\u001b[0m\u001b[1;33m,\u001b[0m \u001b[0msd_count\u001b[0m\u001b[1;33m.\u001b[0m\u001b[0mvalues\u001b[0m\u001b[1;33m,\u001b[0m \u001b[0malpha\u001b[0m\u001b[1;33m=\u001b[0m\u001b[1;36m0.8\u001b[0m\u001b[1;33m)\u001b[0m\u001b[1;33m\u001b[0m\u001b[1;33m\u001b[0m\u001b[0m\n\u001b[0m\u001b[0;32m      8\u001b[0m \u001b[1;33m\u001b[0m\u001b[0m\n\u001b[0;32m      9\u001b[0m     \u001b[0mplt\u001b[0m\u001b[1;33m.\u001b[0m\u001b[0mtitle\u001b[0m\u001b[1;33m(\u001b[0m\u001b[1;34m'%s'\u001b[0m\u001b[1;33m%\u001b[0m\u001b[0mthis_tag\u001b[0m\u001b[1;33m)\u001b[0m\u001b[1;33m\u001b[0m\u001b[1;33m\u001b[0m\u001b[0m\n",
      "\u001b[1;32mc:\\users\\astr010gos\\appdata\\local\\programs\\python\\python39\\lib\\site-packages\\seaborn\\_decorators.py\u001b[0m in \u001b[0;36minner_f\u001b[1;34m(*args, **kwargs)\u001b[0m\n\u001b[0;32m     44\u001b[0m             )\n\u001b[0;32m     45\u001b[0m         \u001b[0mkwargs\u001b[0m\u001b[1;33m.\u001b[0m\u001b[0mupdate\u001b[0m\u001b[1;33m(\u001b[0m\u001b[1;33m{\u001b[0m\u001b[0mk\u001b[0m\u001b[1;33m:\u001b[0m \u001b[0marg\u001b[0m \u001b[1;32mfor\u001b[0m \u001b[0mk\u001b[0m\u001b[1;33m,\u001b[0m \u001b[0marg\u001b[0m \u001b[1;32min\u001b[0m \u001b[0mzip\u001b[0m\u001b[1;33m(\u001b[0m\u001b[0msig\u001b[0m\u001b[1;33m.\u001b[0m\u001b[0mparameters\u001b[0m\u001b[1;33m,\u001b[0m \u001b[0margs\u001b[0m\u001b[1;33m)\u001b[0m\u001b[1;33m}\u001b[0m\u001b[1;33m)\u001b[0m\u001b[1;33m\u001b[0m\u001b[1;33m\u001b[0m\u001b[0m\n\u001b[1;32m---> 46\u001b[1;33m         \u001b[1;32mreturn\u001b[0m \u001b[0mf\u001b[0m\u001b[1;33m(\u001b[0m\u001b[1;33m**\u001b[0m\u001b[0mkwargs\u001b[0m\u001b[1;33m)\u001b[0m\u001b[1;33m\u001b[0m\u001b[1;33m\u001b[0m\u001b[0m\n\u001b[0m\u001b[0;32m     47\u001b[0m     \u001b[1;32mreturn\u001b[0m \u001b[0minner_f\u001b[0m\u001b[1;33m\u001b[0m\u001b[1;33m\u001b[0m\u001b[0m\n\u001b[0;32m     48\u001b[0m \u001b[1;33m\u001b[0m\u001b[0m\n",
      "\u001b[1;32mc:\\users\\astr010gos\\appdata\\local\\programs\\python\\python39\\lib\\site-packages\\seaborn\\categorical.py\u001b[0m in \u001b[0;36mbarplot\u001b[1;34m(x, y, hue, data, order, hue_order, estimator, ci, n_boot, units, seed, orient, color, palette, saturation, errcolor, errwidth, capsize, dodge, ax, **kwargs)\u001b[0m\n\u001b[0;32m   3180\u001b[0m ):\n\u001b[0;32m   3181\u001b[0m \u001b[1;33m\u001b[0m\u001b[0m\n\u001b[1;32m-> 3182\u001b[1;33m     plotter = _BarPlotter(x, y, hue, data, order, hue_order,\n\u001b[0m\u001b[0;32m   3183\u001b[0m                           \u001b[0mestimator\u001b[0m\u001b[1;33m,\u001b[0m \u001b[0mci\u001b[0m\u001b[1;33m,\u001b[0m \u001b[0mn_boot\u001b[0m\u001b[1;33m,\u001b[0m \u001b[0munits\u001b[0m\u001b[1;33m,\u001b[0m \u001b[0mseed\u001b[0m\u001b[1;33m,\u001b[0m\u001b[1;33m\u001b[0m\u001b[1;33m\u001b[0m\u001b[0m\n\u001b[0;32m   3184\u001b[0m                           \u001b[0morient\u001b[0m\u001b[1;33m,\u001b[0m \u001b[0mcolor\u001b[0m\u001b[1;33m,\u001b[0m \u001b[0mpalette\u001b[0m\u001b[1;33m,\u001b[0m \u001b[0msaturation\u001b[0m\u001b[1;33m,\u001b[0m\u001b[1;33m\u001b[0m\u001b[1;33m\u001b[0m\u001b[0m\n",
      "\u001b[1;32mc:\\users\\astr010gos\\appdata\\local\\programs\\python\\python39\\lib\\site-packages\\seaborn\\categorical.py\u001b[0m in \u001b[0;36m__init__\u001b[1;34m(self, x, y, hue, data, order, hue_order, estimator, ci, n_boot, units, seed, orient, color, palette, saturation, errcolor, errwidth, capsize, dodge)\u001b[0m\n\u001b[0;32m   1584\u001b[0m         self.establish_variables(x, y, hue, data, orient,\n\u001b[0;32m   1585\u001b[0m                                  order, hue_order, units)\n\u001b[1;32m-> 1586\u001b[1;33m         \u001b[0mself\u001b[0m\u001b[1;33m.\u001b[0m\u001b[0mestablish_colors\u001b[0m\u001b[1;33m(\u001b[0m\u001b[0mcolor\u001b[0m\u001b[1;33m,\u001b[0m \u001b[0mpalette\u001b[0m\u001b[1;33m,\u001b[0m \u001b[0msaturation\u001b[0m\u001b[1;33m)\u001b[0m\u001b[1;33m\u001b[0m\u001b[1;33m\u001b[0m\u001b[0m\n\u001b[0m\u001b[0;32m   1587\u001b[0m         \u001b[0mself\u001b[0m\u001b[1;33m.\u001b[0m\u001b[0mestimate_statistic\u001b[0m\u001b[1;33m(\u001b[0m\u001b[0mestimator\u001b[0m\u001b[1;33m,\u001b[0m \u001b[0mci\u001b[0m\u001b[1;33m,\u001b[0m \u001b[0mn_boot\u001b[0m\u001b[1;33m,\u001b[0m \u001b[0mseed\u001b[0m\u001b[1;33m)\u001b[0m\u001b[1;33m\u001b[0m\u001b[1;33m\u001b[0m\u001b[0m\n\u001b[0;32m   1588\u001b[0m \u001b[1;33m\u001b[0m\u001b[0m\n",
      "\u001b[1;32mc:\\users\\astr010gos\\appdata\\local\\programs\\python\\python39\\lib\\site-packages\\seaborn\\categorical.py\u001b[0m in \u001b[0;36mestablish_colors\u001b[1;34m(self, color, palette, saturation)\u001b[0m\n\u001b[0;32m    317\u001b[0m         \u001b[1;31m# Determine the gray color to use for the lines framing the plot\u001b[0m\u001b[1;33m\u001b[0m\u001b[1;33m\u001b[0m\u001b[1;33m\u001b[0m\u001b[0m\n\u001b[0;32m    318\u001b[0m         \u001b[0mlight_vals\u001b[0m \u001b[1;33m=\u001b[0m \u001b[1;33m[\u001b[0m\u001b[0mcolorsys\u001b[0m\u001b[1;33m.\u001b[0m\u001b[0mrgb_to_hls\u001b[0m\u001b[1;33m(\u001b[0m\u001b[1;33m*\u001b[0m\u001b[0mc\u001b[0m\u001b[1;33m)\u001b[0m\u001b[1;33m[\u001b[0m\u001b[1;36m1\u001b[0m\u001b[1;33m]\u001b[0m \u001b[1;32mfor\u001b[0m \u001b[0mc\u001b[0m \u001b[1;32min\u001b[0m \u001b[0mrgb_colors\u001b[0m\u001b[1;33m]\u001b[0m\u001b[1;33m\u001b[0m\u001b[1;33m\u001b[0m\u001b[0m\n\u001b[1;32m--> 319\u001b[1;33m         \u001b[0mlum\u001b[0m \u001b[1;33m=\u001b[0m \u001b[0mmin\u001b[0m\u001b[1;33m(\u001b[0m\u001b[0mlight_vals\u001b[0m\u001b[1;33m)\u001b[0m \u001b[1;33m*\u001b[0m \u001b[1;36m.6\u001b[0m\u001b[1;33m\u001b[0m\u001b[1;33m\u001b[0m\u001b[0m\n\u001b[0m\u001b[0;32m    320\u001b[0m         \u001b[0mgray\u001b[0m \u001b[1;33m=\u001b[0m \u001b[0mmpl\u001b[0m\u001b[1;33m.\u001b[0m\u001b[0mcolors\u001b[0m\u001b[1;33m.\u001b[0m\u001b[0mrgb2hex\u001b[0m\u001b[1;33m(\u001b[0m\u001b[1;33m(\u001b[0m\u001b[0mlum\u001b[0m\u001b[1;33m,\u001b[0m \u001b[0mlum\u001b[0m\u001b[1;33m,\u001b[0m \u001b[0mlum\u001b[0m\u001b[1;33m)\u001b[0m\u001b[1;33m)\u001b[0m\u001b[1;33m\u001b[0m\u001b[1;33m\u001b[0m\u001b[0m\n\u001b[0;32m    321\u001b[0m \u001b[1;33m\u001b[0m\u001b[0m\n",
      "\u001b[1;31mValueError\u001b[0m: min() arg is an empty sequence"
     ]
    },
    {
     "data": {
      "text/plain": [
       "<Figure size 720x360 with 0 Axes>"
      ]
     },
     "metadata": {},
     "output_type": "display_data"
    }
   ],
   "source": [
    "for this_tag in top_tags:\n",
    "    shortest_dist_tag_list=pd.read_csv('temp/%s_shortest_dist.txt'%this_tag,names=['dist'],sep=\" \",header=None)\n",
    "\n",
    "    sd_count=shortest_dist_tag_list['dist'].value_counts()\n",
    "    \n",
    "    plt.figure(figsize=(10,5))\n",
    "    sns.barplot(sd_count.index, sd_count.values, alpha=0.8)\n",
    "\n",
    "    plt.title('%s'%this_tag)\n",
    "    plt.ylabel('Pair count', fontsize=12)\n",
    "    plt.xlabel('Shortest Distance', fontsize=12)\n",
    "    #plt.show()\n",
    "    plt.savefig('Graphys/%s.png'%this_tag)"
   ]
  },
  {
   "cell_type": "markdown",
   "metadata": {
    "colab_type": "text",
    "id": "oWU2TA5h2r2T"
   },
   "source": [
    "# Read the graph"
   ]
  },
  {
   "cell_type": "code",
   "execution_count": 32,
   "metadata": {
    "colab": {
     "base_uri": "https://localhost:8080/",
     "height": 34
    },
    "colab_type": "code",
    "id": "tFrWbs2jVQ4n",
    "outputId": "bc89ca5a-95b5-4721-9f06-b1b29c02e20a"
   },
   "outputs": [
    {
     "name": "stdout",
     "output_type": "stream",
     "text": [
      "Spent 0.004004001617431641 in reading graph\n"
     ]
    }
   ],
   "source": [
    "begin=time.time()\n",
    "try:\n",
    "  nx.write_gpickle(G,\"test.gpickle\")\n",
    "  # Read from pickle\n",
    "  G=nx.read_gpickle(\"test.gpickle\")\n",
    "  end=time.time()\n",
    "  print('Spent {} in reading graph'.format(end-begin))\n",
    "except:\n",
    "  G=nx.Graph()\n",
    "  G.add_edges_from(edges)\n",
    "  end=time.time()\n",
    "  print('{} seconds'.format(end-start))"
   ]
  },
  {
   "cell_type": "code",
   "execution_count": 33,
   "metadata": {
    "colab": {
     "base_uri": "https://localhost:8080/",
     "height": 101
    },
    "colab_type": "code",
    "id": "N9Dg1q6H2u7B",
    "outputId": "1c04cee0-0dbf-43ca-c5ca-f09bd00e04ed"
   },
   "outputs": [
    {
     "name": "stdout",
     "output_type": "stream",
     "text": [
      "Graph with 0 nodes and 0 edges\n"
     ]
    }
   ],
   "source": [
    "########### Print the summary of the graph ###########\n",
    "print(nx.info(G))"
   ]
  },
  {
   "cell_type": "markdown",
   "metadata": {
    "colab_type": "text",
    "id": "k2Cf1btt2Cos"
   },
   "source": [
    "# (Without Tags) Calculate the shortest path"
   ]
  },
  {
   "cell_type": "code",
   "execution_count": null,
   "metadata": {
    "colab": {},
    "colab_type": "code",
    "id": "M4SFcgLrlyus"
   },
   "outputs": [],
   "source": [
    "#### Only Need to Calculate Once, more than 10 hours ####\n",
    "#################### Select k nodes #####################\n",
    "node_list=[line.rstrip('\\n') for line in open('../six-degrees-of-separation-in-twitter-master/nodelist.txt')]\n",
    "\n",
    "k=5000\n",
    "k_nodes=set()\n",
    "\n",
    "while len(k_nodes)<k:\n",
    "    n1=random.choice(node_list)\n",
    "    if n1 not in k_nodes:\n",
    "        k_nodes.add(n1)\n",
    "\n",
    "print('Finished sampling {} nodes'.format(k))\n",
    "\n",
    "k_nodes=list(k_nodes)\n",
    "\n",
    "count=1\n",
    "pairs_count=0\n",
    "\n",
    "for index_a in range(k):\n",
    "    no_paths=[]\n",
    "    shortest_path_list=[]\n",
    "    shortest_dist=[]\n",
    "\n",
    "    for index_b in range(index_a+1,k):\n",
    "        pairs_count+=1\n",
    "        a=k_nodes[index_a]\n",
    "        b=k_nodes[index_b]\n",
    "\n",
    "        try:\n",
    "            s_path=nx.shortest_path_length(G,a,b)\n",
    "            shortest_path_list.append((a,b,s_path))\n",
    "            shortest_dist.append(s_path)\n",
    "\n",
    "        except:\n",
    "            no_paths.append((a,b))\n",
    "\n",
    "    with open('../six-degrees-of-separation-in-twitter-master/real_%s_shortest_path.txt'%k,'a+') as fp:\n",
    "        fp.write('\\n'.join('%s %s %s'%x for x in shortest_path_list))\n",
    "\n",
    "    with open('../six-degrees-of-separation-in-twitter-master/real_%s_no_path.txt'%k,'a+') as fp:\n",
    "        fp.write('\\n'.join('%s %s'%x for x in no_paths))\n",
    "\n",
    "    with open('../six-degrees-of-separation-in-twitter-master/real_%s_shortest_dist.txt'%k,'a+') as fp:\n",
    "        fp.write('\\n'.join('%s'%x for x in shortest_dist))\n",
    "\n",
    "    print('Finished {} node'.format(count))\n",
    "    count+=1"
   ]
  },
  {
   "cell_type": "markdown",
   "metadata": {
    "colab_type": "text",
    "id": "9ybdgmvl2Scs"
   },
   "source": [
    "# (Withou Tags) Analyze the data 5000 users"
   ]
  },
  {
   "cell_type": "code",
   "execution_count": null,
   "metadata": {
    "colab": {},
    "colab_type": "code",
    "id": "LXo8Dtb2zgoR"
   },
   "outputs": [],
   "source": [
    "shortest_dist_list = pd.read_csv('../six-degrees-of-separation-in-twitter-master/5000_shortest_dist.txt', names=['dist'], sep=\" \", header=None)"
   ]
  },
  {
   "cell_type": "code",
   "execution_count": null,
   "metadata": {
    "colab": {
     "base_uri": "https://localhost:8080/",
     "height": 170
    },
    "colab_type": "code",
    "id": "mMMTiEa4zpA5",
    "outputId": "b2f95da5-2254-4b2f-9044-295b38f661b1"
   },
   "outputs": [],
   "source": [
    "shortest_dist_list['dist'].value_counts()"
   ]
  },
  {
   "cell_type": "code",
   "execution_count": null,
   "metadata": {
    "colab": {
     "base_uri": "https://localhost:8080/",
     "height": 34
    },
    "colab_type": "code",
    "id": "-yNJl38h9xAL",
    "outputId": "347bcefe-356e-4d8c-e803-906e84115079"
   },
   "outputs": [],
   "source": [
    "shortest_dist_list['dist'].count()"
   ]
  },
  {
   "cell_type": "code",
   "execution_count": null,
   "metadata": {
    "colab": {
     "base_uri": "https://localhost:8080/",
     "height": 353
    },
    "colab_type": "code",
    "id": "eNekbZhRrMAl",
    "outputId": "142ab60c-afb8-4db0-d977-b27da0ee4caf"
   },
   "outputs": [],
   "source": [
    "sd_count=shortest_dist_list['dist'].value_counts()\n",
    "\n",
    "plt.figure(figsize=(10,5))\n",
    "sns.barplot(sd_count.index, sd_count.values, alpha=0.8)\n",
    "\n",
    "plt.title('5000 Users Degrees Distribution')\n",
    "plt.ylabel('Pair count', fontsize=12)\n",
    "plt.xlabel('Shortest Distance', fontsize=12)\n",
    "plt.savefig('/content/drive/My Drive/network/5000_users.png')"
   ]
  },
  {
   "cell_type": "code",
   "execution_count": null,
   "metadata": {
    "colab": {
     "base_uri": "https://localhost:8080/",
     "height": 34
    },
    "colab_type": "code",
    "id": "bmaIsG5IsYOU",
    "outputId": "f1168c4a-c39d-4bb0-8ae7-a81da78b3904"
   },
   "outputs": [],
   "source": [
    "degree_greater_than_6=sum(sd_count.loc[sd_count.index>6].values)\n",
    "print(\"Pairs that have degree greater than 6 has {}\".format(degree_greater_than_6))"
   ]
  },
  {
   "cell_type": "code",
   "execution_count": null,
   "metadata": {
    "colab": {
     "base_uri": "https://localhost:8080/",
     "height": 34
    },
    "colab_type": "code",
    "id": "DdOpRlxytwF1",
    "outputId": "259ff72c-4bb4-47dc-e9ab-eebc29abb380"
   },
   "outputs": [],
   "source": [
    "degree_smaller_than_6=sum(sd_count.loc[sd_count.index<6].values)\n",
    "print(\"Pairs that have degree smaller than 6 has {}\".format(degree_smaller_than_6))"
   ]
  },
  {
   "cell_type": "code",
   "execution_count": null,
   "metadata": {
    "colab": {
     "base_uri": "https://localhost:8080/",
     "height": 34
    },
    "colab_type": "code",
    "id": "DPUNDTSfuQqL",
    "outputId": "d7b8ae6a-9ded-43cb-8c69-c45d2fc47502"
   },
   "outputs": [],
   "source": [
    "degree_equal_to_6=sum(sd_count.loc[sd_count.index==6].values)\n",
    "print(\"Pairs that have degree equal to 6 has {}\".format(degree_equal_to_6))"
   ]
  },
  {
   "cell_type": "code",
   "execution_count": null,
   "metadata": {
    "colab": {
     "base_uri": "https://localhost:8080/",
     "height": 353
    },
    "colab_type": "code",
    "id": "GKkh9aKAunx_",
    "outputId": "8041fc17-b252-43d1-9e80-48b1ce3532c3"
   },
   "outputs": [],
   "source": [
    "# Visualization\n",
    "x_dist=['Smaller than 6', 'Equal to 6', 'Larger than 6']\n",
    "y_count=[degree_smaller_than_6, degree_equal_to_6 ,degree_greater_than_6]\n",
    "\n",
    "plt.figure(figsize=(10,5))\n",
    "\n",
    "sns.barplot(x_dist, y_count, alpha=0.8)\n",
    "\n",
    "plt.title('Six Degrees Distribution')\n",
    "\n",
    "plt.ylabel('Pair count', fontsize=12)\n",
    "plt.xlabel('Shortest Distance', fontsize=12)\n",
    "plt.savefig('/content/drive/My Drive/network/six_degrees_distribution.png')"
   ]
  },
  {
   "cell_type": "code",
   "execution_count": null,
   "metadata": {
    "colab": {
     "base_uri": "https://localhost:8080/",
     "height": 284
    },
    "colab_type": "code",
    "id": "-bWsB48jzsKI",
    "outputId": "5bfc974a-8251-43b3-8c0c-772f155c7d2d"
   },
   "outputs": [],
   "source": [
    "shortest_dist_list.describe()"
   ]
  },
  {
   "cell_type": "markdown",
   "metadata": {
    "colab_type": "text",
    "id": "WDyVZVVcaXjs"
   },
   "source": [
    "# (Withou Tags) Analyze the data 10000 users"
   ]
  },
  {
   "cell_type": "code",
   "execution_count": null,
   "metadata": {
    "colab": {},
    "colab_type": "code",
    "id": "I2QJhzNNaXjz"
   },
   "outputs": [],
   "source": [
    "shortest_dist_list = pd.read_csv('/content/drive/My Drive/network/10000_shortest_dist.txt', names=['dist'], sep=\" \", header=None)"
   ]
  },
  {
   "cell_type": "code",
   "execution_count": null,
   "metadata": {
    "colab": {
     "base_uri": "https://localhost:8080/",
     "height": 170
    },
    "colab_type": "code",
    "id": "JXsPNYLraXj2",
    "outputId": "968ccfbb-b663-4412-90f8-0a110dd95ae2"
   },
   "outputs": [],
   "source": [
    "shortest_dist_list['dist'].value_counts()"
   ]
  },
  {
   "cell_type": "code",
   "execution_count": null,
   "metadata": {
    "colab": {
     "base_uri": "https://localhost:8080/",
     "height": 34
    },
    "colab_type": "code",
    "id": "HinF9Gs3aXj6",
    "outputId": "866ede57-b475-4184-c1eb-a0e6941f1971"
   },
   "outputs": [],
   "source": [
    "shortest_dist_list['dist'].count()"
   ]
  },
  {
   "cell_type": "code",
   "execution_count": null,
   "metadata": {
    "colab": {
     "base_uri": "https://localhost:8080/",
     "height": 353
    },
    "colab_type": "code",
    "id": "J9gcrt6AaXj8",
    "outputId": "b5fa7f9d-4e5e-415f-9bb9-8c98f18d503c"
   },
   "outputs": [],
   "source": [
    "sd_count=shortest_dist_list['dist'].value_counts()\n",
    "\n",
    "plt.figure(figsize=(10,5))\n",
    "sns.barplot(sd_count.index, sd_count.values, alpha=0.8)\n",
    "\n",
    "plt.title('10000 Users Degrees Distribution')\n",
    "plt.ylabel('Pair count', fontsize=12)\n",
    "plt.xlabel('Shortest Distance', fontsize=12)\n",
    "plt.savefig('/content/drive/My Drive/network/10000_users.png')"
   ]
  },
  {
   "cell_type": "code",
   "execution_count": null,
   "metadata": {
    "colab": {
     "base_uri": "https://localhost:8080/",
     "height": 34
    },
    "colab_type": "code",
    "id": "UidHsx5PaXj-",
    "outputId": "6d5c9a3e-6209-4ecb-8f04-720d7adcac2b"
   },
   "outputs": [],
   "source": [
    "degree_greater_than_6=sum(sd_count.loc[sd_count.index>6].values)\n",
    "print(\"Pairs that have degree greater than 6 has {}\".format(degree_greater_than_6))"
   ]
  },
  {
   "cell_type": "code",
   "execution_count": null,
   "metadata": {
    "colab": {
     "base_uri": "https://localhost:8080/",
     "height": 34
    },
    "colab_type": "code",
    "id": "WpuSVFkraXkA",
    "outputId": "135fb37a-1299-4fca-8720-4201f81b3929"
   },
   "outputs": [],
   "source": [
    "degree_smaller_than_6=sum(sd_count.loc[sd_count.index<6].values)\n",
    "print(\"Pairs that have degree smaller than 6 has {}\".format(degree_smaller_than_6))"
   ]
  },
  {
   "cell_type": "code",
   "execution_count": null,
   "metadata": {
    "colab": {
     "base_uri": "https://localhost:8080/",
     "height": 34
    },
    "colab_type": "code",
    "id": "fFnI_LE5aXkD",
    "outputId": "1610c36d-d50d-4594-b472-ac4ab560cc45"
   },
   "outputs": [],
   "source": [
    "degree_equal_to_6=sum(sd_count.loc[sd_count.index==6].values)\n",
    "print(\"Pairs that have degree equal to 6 has {}\".format(degree_equal_to_6))"
   ]
  },
  {
   "cell_type": "code",
   "execution_count": null,
   "metadata": {
    "colab": {
     "base_uri": "https://localhost:8080/",
     "height": 353
    },
    "colab_type": "code",
    "id": "somyOcPCaXkF",
    "outputId": "aa40aae9-a984-47ad-98c6-5d08d7611f93"
   },
   "outputs": [],
   "source": [
    "# Visualization\n",
    "x_dist=['Smaller than 6', 'Equal to 6', 'Larger than 6']\n",
    "y_count=[degree_smaller_than_6, degree_equal_to_6 ,degree_greater_than_6]\n",
    "\n",
    "plt.figure(figsize=(10,5))\n",
    "\n",
    "sns.barplot(x_dist, y_count, alpha=0.8)\n",
    "\n",
    "plt.title('Six Degrees Distribution')\n",
    "\n",
    "plt.ylabel('Pair count', fontsize=12)\n",
    "plt.xlabel('Shortest Distance', fontsize=12)\n",
    "plt.savefig('/content/drive/My Drive/network/six_degrees_distribution_10000.png')"
   ]
  },
  {
   "cell_type": "code",
   "execution_count": null,
   "metadata": {
    "colab": {
     "base_uri": "https://localhost:8080/",
     "height": 297
    },
    "colab_type": "code",
    "id": "AN8OHT8GaXkH",
    "outputId": "88f06d46-d5e8-4107-f155-7ccd9dfba240"
   },
   "outputs": [],
   "source": [
    "shortest_dist_list.describe()"
   ]
  }
 ],
 "metadata": {
  "colab": {
   "machine_shape": "hm",
   "name": "network_project.ipynb",
   "provenance": []
  },
  "kernelspec": {
   "display_name": "Python 3 (ipykernel)",
   "language": "python",
   "name": "python3"
  },
  "language_info": {
   "codemirror_mode": {
    "name": "ipython",
    "version": 3
   },
   "file_extension": ".py",
   "mimetype": "text/x-python",
   "name": "python",
   "nbconvert_exporter": "python",
   "pygments_lexer": "ipython3",
   "version": "3.9.5"
  }
 },
 "nbformat": 4,
 "nbformat_minor": 1
}
